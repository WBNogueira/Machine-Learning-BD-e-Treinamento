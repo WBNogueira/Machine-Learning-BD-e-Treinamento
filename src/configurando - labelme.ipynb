{
 "cells": [
  {
   "cell_type": "code",
   "execution_count": 1,
   "id": "445faefb",
   "metadata": {},
   "outputs": [
    {
     "name": "stdout",
     "output_type": "stream",
     "text": [
      "Requirement already satisfied: github2pypi==1.0.0 in c:\\users\\wbnog\\anaconda3\\lib\\site-packages (from -r requirements-dev.txt (line 1)) (1.0.0)\n",
      "Requirement already satisfied: pytest in c:\\users\\wbnog\\anaconda3\\lib\\site-packages (from -r requirements-dev.txt (line 2)) (7.1.2)\n",
      "Requirement already satisfied: pytest-qt in c:\\users\\wbnog\\anaconda3\\lib\\site-packages (from -r requirements-dev.txt (line 3)) (4.4.0)\n",
      "Requirement already satisfied: ruff==0.1.9 in c:\\users\\wbnog\\anaconda3\\lib\\site-packages (from -r requirements-dev.txt (line 4)) (0.1.9)\n",
      "Requirement already satisfied: twine in c:\\users\\wbnog\\anaconda3\\lib\\site-packages (from -r requirements-dev.txt (line 5)) (5.0.0)\n",
      "Requirement already satisfied: attrs>=19.2.0 in c:\\users\\wbnog\\anaconda3\\lib\\site-packages (from pytest->-r requirements-dev.txt (line 2)) (21.4.0)\n",
      "Requirement already satisfied: iniconfig in c:\\users\\wbnog\\anaconda3\\lib\\site-packages (from pytest->-r requirements-dev.txt (line 2)) (1.1.1)\n",
      "Requirement already satisfied: packaging in c:\\users\\wbnog\\anaconda3\\lib\\site-packages (from pytest->-r requirements-dev.txt (line 2)) (21.3)\n",
      "Requirement already satisfied: pluggy<2.0,>=0.12 in c:\\users\\wbnog\\anaconda3\\lib\\site-packages (from pytest->-r requirements-dev.txt (line 2)) (1.4.0)\n",
      "Requirement already satisfied: py>=1.8.2 in c:\\users\\wbnog\\anaconda3\\lib\\site-packages (from pytest->-r requirements-dev.txt (line 2)) (1.11.0)\n",
      "Requirement already satisfied: tomli>=1.0.0 in c:\\users\\wbnog\\anaconda3\\lib\\site-packages (from pytest->-r requirements-dev.txt (line 2)) (2.0.1)\n",
      "Requirement already satisfied: atomicwrites>=1.0 in c:\\users\\wbnog\\anaconda3\\lib\\site-packages (from pytest->-r requirements-dev.txt (line 2)) (1.4.0)\n",
      "Requirement already satisfied: colorama in c:\\users\\wbnog\\anaconda3\\lib\\site-packages (from pytest->-r requirements-dev.txt (line 2)) (0.4.5)\n",
      "Requirement already satisfied: urllib3>=1.26.0 in c:\\users\\wbnog\\anaconda3\\lib\\site-packages (from twine->-r requirements-dev.txt (line 5)) (1.26.11)\n",
      "Requirement already satisfied: importlib-metadata>=3.6 in c:\\users\\wbnog\\anaconda3\\lib\\site-packages (from twine->-r requirements-dev.txt (line 5)) (4.11.3)\n",
      "Requirement already satisfied: requests>=2.20 in c:\\users\\wbnog\\anaconda3\\lib\\site-packages (from twine->-r requirements-dev.txt (line 5)) (2.28.1)\n",
      "Requirement already satisfied: rfc3986>=1.4.0 in c:\\users\\wbnog\\anaconda3\\lib\\site-packages (from twine->-r requirements-dev.txt (line 5)) (2.0.0)\n",
      "Requirement already satisfied: pkginfo>=1.8.1 in c:\\users\\wbnog\\anaconda3\\lib\\site-packages (from twine->-r requirements-dev.txt (line 5)) (1.8.2)\n",
      "Requirement already satisfied: keyring>=15.1 in c:\\users\\wbnog\\anaconda3\\lib\\site-packages (from twine->-r requirements-dev.txt (line 5)) (23.4.0)\n",
      "Requirement already satisfied: readme-renderer>=35.0 in c:\\users\\wbnog\\anaconda3\\lib\\site-packages (from twine->-r requirements-dev.txt (line 5)) (43.0)\n",
      "Requirement already satisfied: rich>=12.0.0 in c:\\users\\wbnog\\anaconda3\\lib\\site-packages (from twine->-r requirements-dev.txt (line 5)) (13.7.1)\n",
      "Requirement already satisfied: requests-toolbelt!=0.9.0,>=0.8.0 in c:\\users\\wbnog\\anaconda3\\lib\\site-packages (from twine->-r requirements-dev.txt (line 5)) (1.0.0)\n",
      "Requirement already satisfied: zipp>=0.5 in c:\\users\\wbnog\\anaconda3\\lib\\site-packages (from importlib-metadata>=3.6->twine->-r requirements-dev.txt (line 5)) (3.8.0)\n",
      "Requirement already satisfied: pywin32-ctypes!=0.1.0,!=0.1.1 in c:\\users\\wbnog\\anaconda3\\lib\\site-packages (from keyring>=15.1->twine->-r requirements-dev.txt (line 5)) (0.2.0)\n",
      "Requirement already satisfied: docutils>=0.13.1 in c:\\users\\wbnog\\anaconda3\\lib\\site-packages (from readme-renderer>=35.0->twine->-r requirements-dev.txt (line 5)) (0.18.1)\n",
      "Requirement already satisfied: nh3>=0.2.14 in c:\\users\\wbnog\\anaconda3\\lib\\site-packages (from readme-renderer>=35.0->twine->-r requirements-dev.txt (line 5)) (0.2.15)\n",
      "Requirement already satisfied: Pygments>=2.5.1 in c:\\users\\wbnog\\anaconda3\\lib\\site-packages (from readme-renderer>=35.0->twine->-r requirements-dev.txt (line 5)) (2.17.2)\n",
      "Requirement already satisfied: idna<4,>=2.5 in c:\\users\\wbnog\\anaconda3\\lib\\site-packages (from requests>=2.20->twine->-r requirements-dev.txt (line 5)) (3.3)\n",
      "Requirement already satisfied: charset-normalizer<3,>=2 in c:\\users\\wbnog\\anaconda3\\lib\\site-packages (from requests>=2.20->twine->-r requirements-dev.txt (line 5)) (2.0.4)\n",
      "Requirement already satisfied: certifi>=2017.4.17 in c:\\users\\wbnog\\anaconda3\\lib\\site-packages (from requests>=2.20->twine->-r requirements-dev.txt (line 5)) (2022.9.14)\n",
      "Requirement already satisfied: markdown-it-py>=2.2.0 in c:\\users\\wbnog\\anaconda3\\lib\\site-packages (from rich>=12.0.0->twine->-r requirements-dev.txt (line 5)) (3.0.0)\n",
      "Requirement already satisfied: pyparsing!=3.0.5,>=2.0.2 in c:\\users\\wbnog\\anaconda3\\lib\\site-packages (from packaging->pytest->-r requirements-dev.txt (line 2)) (3.0.9)\n",
      "Requirement already satisfied: mdurl~=0.1 in c:\\users\\wbnog\\anaconda3\\lib\\site-packages (from markdown-it-py>=2.2.0->rich>=12.0.0->twine->-r requirements-dev.txt (line 5)) (0.1.2)\n"
     ]
    }
   ],
   "source": [
    "!pip install -r requirements-dev.txt"
   ]
  },
  {
   "cell_type": "code",
   "execution_count": 5,
   "id": "ac3202e8",
   "metadata": {},
   "outputs": [
    {
     "name": "stdout",
     "output_type": "stream",
     "text": [
      "Collecting imgviz\n",
      "  Downloading imgviz-1.7.5.tar.gz (7.7 MB)\n",
      "     ---------------------------------------- 7.7/7.7 MB 1.9 MB/s eta 0:00:00\n",
      "  Preparing metadata (setup.py): started\n",
      "  Preparing metadata (setup.py): finished with status 'done'\n",
      "Requirement already satisfied: matplotlib in c:\\users\\wbnog\\anaconda3\\lib\\site-packages (from imgviz) (3.5.2)\n",
      "Requirement already satisfied: numpy in c:\\users\\wbnog\\anaconda3\\lib\\site-packages (from imgviz) (1.26.4)\n",
      "Requirement already satisfied: Pillow>=5.3.0 in c:\\users\\wbnog\\anaconda3\\lib\\site-packages (from imgviz) (9.2.0)\n",
      "Requirement already satisfied: PyYAML in c:\\users\\wbnog\\anaconda3\\lib\\site-packages (from imgviz) (6.0)\n",
      "Requirement already satisfied: cycler>=0.10 in c:\\users\\wbnog\\anaconda3\\lib\\site-packages (from matplotlib->imgviz) (0.11.0)\n",
      "Requirement already satisfied: kiwisolver>=1.0.1 in c:\\users\\wbnog\\anaconda3\\lib\\site-packages (from matplotlib->imgviz) (1.4.2)\n",
      "Requirement already satisfied: fonttools>=4.22.0 in c:\\users\\wbnog\\anaconda3\\lib\\site-packages (from matplotlib->imgviz) (4.25.0)\n",
      "Requirement already satisfied: python-dateutil>=2.7 in c:\\users\\wbnog\\anaconda3\\lib\\site-packages (from matplotlib->imgviz) (2.8.2)\n",
      "Requirement already satisfied: packaging>=20.0 in c:\\users\\wbnog\\anaconda3\\lib\\site-packages (from matplotlib->imgviz) (21.3)\n",
      "Requirement already satisfied: pyparsing>=2.2.1 in c:\\users\\wbnog\\anaconda3\\lib\\site-packages (from matplotlib->imgviz) (3.0.9)\n",
      "Requirement already satisfied: six>=1.5 in c:\\users\\wbnog\\anaconda3\\lib\\site-packages (from python-dateutil>=2.7->matplotlib->imgviz) (1.16.0)\n",
      "Building wheels for collected packages: imgviz\n",
      "  Building wheel for imgviz (setup.py): started\n",
      "  Building wheel for imgviz (setup.py): finished with status 'done'\n",
      "  Created wheel for imgviz: filename=imgviz-1.7.5-py3-none-any.whl size=7680273 sha256=2d84ff5bd5d8183e64a825efde42058c2a91c4991e75d1e65a218e6cafec99ec\n",
      "  Stored in directory: c:\\users\\wbnog\\appdata\\local\\pip\\cache\\wheels\\e2\\24\\9e\\a5255aaa6d0cd95071ef30d3aa0cac5db0c277fec1f4359cd0\n",
      "Successfully built imgviz\n",
      "Installing collected packages: imgviz\n",
      "Successfully installed imgviz-1.7.5\n"
     ]
    }
   ],
   "source": [
    "!pip install imgviz"
   ]
  },
  {
   "cell_type": "code",
   "execution_count": 7,
   "id": "291c3501",
   "metadata": {},
   "outputs": [
    {
     "name": "stdout",
     "output_type": "stream",
     "text": [
      "Collecting natsort\n",
      "  Downloading natsort-8.4.0-py3-none-any.whl (38 kB)\n",
      "Installing collected packages: natsort\n",
      "Successfully installed natsort-8.4.0\n"
     ]
    }
   ],
   "source": [
    "!pip install natsort"
   ]
  },
  {
   "cell_type": "code",
   "execution_count": 9,
   "id": "5739a73c",
   "metadata": {},
   "outputs": [
    {
     "name": "stdout",
     "output_type": "stream",
     "text": [
      "Collecting gdown\n",
      "  Downloading gdown-5.1.0-py3-none-any.whl (17 kB)\n",
      "Requirement already satisfied: filelock in c:\\users\\wbnog\\anaconda3\\lib\\site-packages (from gdown) (3.6.0)\n",
      "Requirement already satisfied: tqdm in c:\\users\\wbnog\\anaconda3\\lib\\site-packages (from gdown) (4.64.1)\n",
      "Requirement already satisfied: beautifulsoup4 in c:\\users\\wbnog\\anaconda3\\lib\\site-packages (from gdown) (4.11.1)\n",
      "Requirement already satisfied: requests[socks] in c:\\users\\wbnog\\anaconda3\\lib\\site-packages (from gdown) (2.28.1)\n",
      "Requirement already satisfied: soupsieve>1.2 in c:\\users\\wbnog\\anaconda3\\lib\\site-packages (from beautifulsoup4->gdown) (2.3.1)\n",
      "Requirement already satisfied: charset-normalizer<3,>=2 in c:\\users\\wbnog\\anaconda3\\lib\\site-packages (from requests[socks]->gdown) (2.0.4)\n",
      "Requirement already satisfied: certifi>=2017.4.17 in c:\\users\\wbnog\\anaconda3\\lib\\site-packages (from requests[socks]->gdown) (2022.9.14)\n",
      "Requirement already satisfied: idna<4,>=2.5 in c:\\users\\wbnog\\anaconda3\\lib\\site-packages (from requests[socks]->gdown) (3.3)\n",
      "Requirement already satisfied: urllib3<1.27,>=1.21.1 in c:\\users\\wbnog\\anaconda3\\lib\\site-packages (from requests[socks]->gdown) (1.26.11)\n",
      "Requirement already satisfied: PySocks!=1.5.7,>=1.5.6 in c:\\users\\wbnog\\anaconda3\\lib\\site-packages (from requests[socks]->gdown) (1.7.1)\n",
      "Requirement already satisfied: colorama in c:\\users\\wbnog\\anaconda3\\lib\\site-packages (from tqdm->gdown) (0.4.5)\n",
      "Installing collected packages: gdown\n",
      "Successfully installed gdown-5.1.0\n"
     ]
    }
   ],
   "source": [
    "!pip install gdown"
   ]
  },
  {
   "cell_type": "code",
   "execution_count": 11,
   "id": "0a051b07",
   "metadata": {},
   "outputs": [
    {
     "name": "stdout",
     "output_type": "stream",
     "text": [
      "Collecting onnxruntime\n",
      "  Downloading onnxruntime-1.17.1-cp39-cp39-win_amd64.whl (5.6 MB)\n",
      "     ---------------------------------------- 5.6/5.6 MB 1.1 MB/s eta 0:00:00\n",
      "Requirement already satisfied: protobuf in c:\\users\\wbnog\\anaconda3\\lib\\site-packages (from onnxruntime) (4.25.3)\n",
      "Requirement already satisfied: flatbuffers in c:\\users\\wbnog\\anaconda3\\lib\\site-packages (from onnxruntime) (23.5.26)\n",
      "Requirement already satisfied: numpy>=1.21.6 in c:\\users\\wbnog\\anaconda3\\lib\\site-packages (from onnxruntime) (1.26.4)\n",
      "Requirement already satisfied: sympy in c:\\users\\wbnog\\anaconda3\\lib\\site-packages (from onnxruntime) (1.10.1)\n",
      "Collecting coloredlogs\n",
      "  Downloading coloredlogs-15.0.1-py2.py3-none-any.whl (46 kB)\n",
      "     ---------------------------------------- 46.0/46.0 kB 2.2 MB/s eta 0:00:00\n",
      "Requirement already satisfied: packaging in c:\\users\\wbnog\\anaconda3\\lib\\site-packages (from onnxruntime) (21.3)\n",
      "Collecting humanfriendly>=9.1\n",
      "  Downloading humanfriendly-10.0-py2.py3-none-any.whl (86 kB)\n",
      "     ---------------------------------------- 86.8/86.8 kB 4.8 MB/s eta 0:00:00\n",
      "Requirement already satisfied: pyparsing!=3.0.5,>=2.0.2 in c:\\users\\wbnog\\anaconda3\\lib\\site-packages (from packaging->onnxruntime) (3.0.9)\n",
      "Requirement already satisfied: mpmath>=0.19 in c:\\users\\wbnog\\anaconda3\\lib\\site-packages (from sympy->onnxruntime) (1.2.1)\n",
      "Collecting pyreadline3\n",
      "  Downloading pyreadline3-3.4.1-py3-none-any.whl (95 kB)\n",
      "     -------------------------------------- 95.2/95.2 kB 454.3 kB/s eta 0:00:00\n",
      "Installing collected packages: pyreadline3, humanfriendly, coloredlogs, onnxruntime\n",
      "Successfully installed coloredlogs-15.0.1 humanfriendly-10.0 onnxruntime-1.17.1 pyreadline3-3.4.1\n"
     ]
    }
   ],
   "source": [
    "!pip install onnxruntime"
   ]
  },
  {
   "cell_type": "code",
   "execution_count": 13,
   "id": "74c6013f",
   "metadata": {},
   "outputs": [
    {
     "name": "stdout",
     "output_type": "stream",
     "text": [
      "Requirement already satisfied: scipy in c:\\users\\wbnog\\anaconda3\\lib\\site-packages (1.9.1)\n",
      "Collecting scipy\n",
      "  Downloading scipy-1.12.0-cp39-cp39-win_amd64.whl (46.2 MB)\n",
      "     -------------------------------------- 46.2/46.2 MB 661.9 kB/s eta 0:00:00\n",
      "Requirement already satisfied: numpy<1.29.0,>=1.22.4 in c:\\users\\wbnog\\anaconda3\\lib\\site-packages (from scipy) (1.26.4)\n",
      "Installing collected packages: scipy\n",
      "  Attempting uninstall: scipy\n",
      "    Found existing installation: scipy 1.9.1\n",
      "    Uninstalling scipy-1.9.1:\n",
      "      Successfully uninstalled scipy-1.9.1\n",
      "Successfully installed scipy-1.12.0\n"
     ]
    }
   ],
   "source": [
    "!pip install --upgrade scipy"
   ]
  },
  {
   "cell_type": "code",
   "execution_count": 14,
   "id": "6a284183",
   "metadata": {},
   "outputs": [],
   "source": [
    "from labelme import __main__"
   ]
  },
  {
   "cell_type": "code",
   "execution_count": 15,
   "id": "1ddb141b",
   "metadata": {},
   "outputs": [
    {
     "name": "stderr",
     "output_type": "stream",
     "text": [
      "usage: ipykernel_launcher.py [-h] [--version] [--reset-config] [--logger-level {debug,info,warning,fatal,error}]\n",
      "                             [--output OUTPUT] [--config CONFIG] [--nodata] [--autosave] [--nosortlabels]\n",
      "                             [--flags FLAGS] [--labelflags LABEL_FLAGS] [--labels LABELS] [--validatelabel {exact}]\n",
      "                             [--keep-prev] [--epsilon EPSILON]\n",
      "                             [filename]\n",
      "ipykernel_launcher.py: error: unrecognized arguments: -f\n"
     ]
    },
    {
     "ename": "SystemExit",
     "evalue": "2",
     "output_type": "error",
     "traceback": [
      "An exception has occurred, use %tb to see the full traceback.\n",
      "\u001b[1;31mSystemExit\u001b[0m\u001b[1;31m:\u001b[0m 2\n"
     ]
    },
    {
     "name": "stderr",
     "output_type": "stream",
     "text": [
      "C:\\Users\\wbnog\\anaconda3\\lib\\site-packages\\IPython\\core\\interactiveshell.py:3465: UserWarning: To exit: use 'exit', 'quit', or Ctrl-D.\n",
      "  warn(\"To exit: use 'exit', 'quit', or Ctrl-D.\", stacklevel=1)\n"
     ]
    }
   ],
   "source": [
    "__main__.main()"
   ]
  },
  {
   "cell_type": "code",
   "execution_count": null,
   "id": "384c8a86",
   "metadata": {},
   "outputs": [],
   "source": []
  }
 ],
 "metadata": {
  "kernelspec": {
   "display_name": "Python 3 (ipykernel)",
   "language": "python",
   "name": "python3"
  },
  "language_info": {
   "codemirror_mode": {
    "name": "ipython",
    "version": 3
   },
   "file_extension": ".py",
   "mimetype": "text/x-python",
   "name": "python",
   "nbconvert_exporter": "python",
   "pygments_lexer": "ipython3",
   "version": "3.9.13"
  }
 },
 "nbformat": 4,
 "nbformat_minor": 5
}
